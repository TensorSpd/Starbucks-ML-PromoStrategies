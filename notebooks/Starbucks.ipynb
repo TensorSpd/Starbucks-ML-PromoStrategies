{
 "cells": [
  {
   "cell_type": "markdown",
   "metadata": {},
   "source": [
    "## Portfolio Exercise: Starbucks\n",
    "<br>\n",
    "\n",
    "<img src=\"https://opj.ca/wp-content/uploads/2018/02/New-Starbucks-Logo-1200x969.jpg\" width=\"200\" height=\"200\">\n",
    "<br>\n",
    "<br>\n",
    " \n",
    "#### Background Information\n",
    "\n",
    "The dataset you will be provided in this portfolio exercise was originally used as a take-home assignment provided by Starbucks for their job candidates. The data for this exercise consists of about 120,000 data points split in a 2:1 ratio among training and test files. In the experiment simulated by the data, an advertising promotion was tested to see if it would bring more customers to purchase a specific product priced at $10. Since it costs the company 0.15 to send out each promotion, it would be best to limit that promotion only to those that are most receptive to the promotion. Each data point includes one column indicating whether or not an individual was sent a promotion for the product, and one column indicating whether or not that individual eventually purchased that product. Each individual also has seven additional features associated with them, which are provided abstractly as V1-V7.\n",
    "\n",
    "#### Optimization Strategy\n",
    "\n",
    "Your task is to use the training data to understand what patterns in V1-V7 to indicate that a promotion should be provided to a user. Specifically, your goal is to maximize the following metrics:\n",
    "\n",
    "* **Incremental Response Rate (IRR)** \n",
    "\n",
    "IRR depicts how many more customers purchased the product with the promotion, as compared to if they didn't receive the promotion. Mathematically, it's the ratio of the number of purchasers in the promotion group to the total number of customers in the purchasers group (_treatment_) minus the ratio of the number of purchasers in the non-promotional group to the total number of customers in the non-promotional group (_control_).\n",
    "\n",
    "$$ IRR = \\frac{purch_{treat}}{cust_{treat}} - \\frac{purch_{ctrl}}{cust_{ctrl}} $$\n",
    "\n",
    "\n",
    "* **Net Incremental Revenue (NIR)**\n",
    "\n",
    "NIR depicts how much is made (or lost) by sending out the promotion. Mathematically, this is 10 times the total number of purchasers that received the promotion minus 0.15 times the number of promotions sent out, minus 10 times the number of purchasers who were not given the promotion.\n",
    "\n",
    "$$ NIR = (10\\cdot purch_{treat} - 0.15 \\cdot cust_{treat}) - 10 \\cdot purch_{ctrl}$$\n",
    "\n",
    "For a full description of what Starbucks provides to candidates see the [instructions available here](https://drive.google.com/open?id=18klca9Sef1Rs6q8DW4l7o349r8B70qXM).\n",
    "\n",
    "Below you can find the training data provided.  Explore the data and different optimization strategies.\n",
    "\n",
    "#### How To Test Your Strategy?\n",
    "\n",
    "When you feel like you have an optimization strategy, complete the `promotion_strategy` function to pass to the `test_results` function.  \n",
    "From past data, we know there are four possible outomes:\n",
    "\n",
    "Table of actual promotion vs. predicted promotion customers:  \n",
    "\n",
    "<table>\n",
    "<tr><th></th><th colspan = '2'>Actual</th></tr>\n",
    "<tr><th>Predicted</th><th>Yes</th><th>No</th></tr>\n",
    "<tr><th>Yes</th><td>I</td><td>II</td></tr>\n",
    "<tr><th>No</th><td>III</td><td>IV</td></tr>\n",
    "</table>\n",
    "\n",
    "The metrics are only being compared for the individuals we predict should obtain the promotion – that is, quadrants I and II.  Since the first set of individuals that receive the promotion (in the training set) receive it randomly, we can expect that quadrants I and II will have approximately equivalent participants.  \n"
   ]
  },
  {
   "cell_type": "code",
   "execution_count": 1,
   "metadata": {
    "scrolled": false
   },
   "outputs": [],
   "source": [
    "# load in packages\n",
    "from itertools import combinations\n",
    "\n",
    "\n",
    "import numpy as np\n",
    "import pandas as pd\n",
    "\n",
    "import scipy as sp\n",
    "import sklearn as sk\n",
    "from scipy.stats import norm\n",
    "from statsmodels.stats.proportion import proportions_ztest, proportion_effectsize\n",
    "from statsmodels.stats.power import NormalIndPower\n",
    "\n",
    "import matplotlib.pyplot as plt\n",
    "import seaborn as sb\n",
    "%matplotlib inline\n"
   ]
  },
  {
   "cell_type": "code",
   "execution_count": 2,
   "metadata": {},
   "outputs": [],
   "source": [
    "import warnings\n",
    "warnings.filterwarnings('ignore')  # Ignore all warnings\n"
   ]
  },
  {
   "cell_type": "code",
   "execution_count": 3,
   "metadata": {},
   "outputs": [
    {
     "data": {
      "text/html": [
       "<div>\n",
       "<style scoped>\n",
       "    .dataframe tbody tr th:only-of-type {\n",
       "        vertical-align: middle;\n",
       "    }\n",
       "\n",
       "    .dataframe tbody tr th {\n",
       "        vertical-align: top;\n",
       "    }\n",
       "\n",
       "    .dataframe thead th {\n",
       "        text-align: right;\n",
       "    }\n",
       "</style>\n",
       "<table border=\"1\" class=\"dataframe\">\n",
       "  <thead>\n",
       "    <tr style=\"text-align: right;\">\n",
       "      <th></th>\n",
       "      <th>ID</th>\n",
       "      <th>Promotion</th>\n",
       "      <th>purchase</th>\n",
       "      <th>V1</th>\n",
       "      <th>V2</th>\n",
       "      <th>V3</th>\n",
       "      <th>V4</th>\n",
       "      <th>V5</th>\n",
       "      <th>V6</th>\n",
       "      <th>V7</th>\n",
       "    </tr>\n",
       "  </thead>\n",
       "  <tbody>\n",
       "    <tr>\n",
       "      <th>0</th>\n",
       "      <td>1</td>\n",
       "      <td>No</td>\n",
       "      <td>0</td>\n",
       "      <td>2</td>\n",
       "      <td>30.443518</td>\n",
       "      <td>-1.165083</td>\n",
       "      <td>1</td>\n",
       "      <td>1</td>\n",
       "      <td>3</td>\n",
       "      <td>2</td>\n",
       "    </tr>\n",
       "    <tr>\n",
       "      <th>1</th>\n",
       "      <td>3</td>\n",
       "      <td>No</td>\n",
       "      <td>0</td>\n",
       "      <td>3</td>\n",
       "      <td>32.159350</td>\n",
       "      <td>-0.645617</td>\n",
       "      <td>2</td>\n",
       "      <td>3</td>\n",
       "      <td>2</td>\n",
       "      <td>2</td>\n",
       "    </tr>\n",
       "    <tr>\n",
       "      <th>2</th>\n",
       "      <td>4</td>\n",
       "      <td>No</td>\n",
       "      <td>0</td>\n",
       "      <td>2</td>\n",
       "      <td>30.431659</td>\n",
       "      <td>0.133583</td>\n",
       "      <td>1</td>\n",
       "      <td>1</td>\n",
       "      <td>4</td>\n",
       "      <td>2</td>\n",
       "    </tr>\n",
       "    <tr>\n",
       "      <th>3</th>\n",
       "      <td>5</td>\n",
       "      <td>No</td>\n",
       "      <td>0</td>\n",
       "      <td>0</td>\n",
       "      <td>26.588914</td>\n",
       "      <td>-0.212728</td>\n",
       "      <td>2</td>\n",
       "      <td>1</td>\n",
       "      <td>4</td>\n",
       "      <td>2</td>\n",
       "    </tr>\n",
       "    <tr>\n",
       "      <th>4</th>\n",
       "      <td>8</td>\n",
       "      <td>Yes</td>\n",
       "      <td>0</td>\n",
       "      <td>3</td>\n",
       "      <td>28.044331</td>\n",
       "      <td>-0.385883</td>\n",
       "      <td>1</td>\n",
       "      <td>1</td>\n",
       "      <td>2</td>\n",
       "      <td>2</td>\n",
       "    </tr>\n",
       "  </tbody>\n",
       "</table>\n",
       "</div>"
      ],
      "text/plain": [
       "   ID Promotion  purchase  V1         V2        V3  V4  V5  V6  V7\n",
       "0   1        No         0   2  30.443518 -1.165083   1   1   3   2\n",
       "1   3        No         0   3  32.159350 -0.645617   2   3   2   2\n",
       "2   4        No         0   2  30.431659  0.133583   1   1   4   2\n",
       "3   5        No         0   0  26.588914 -0.212728   2   1   4   2\n",
       "4   8       Yes         0   3  28.044331 -0.385883   1   1   2   2"
      ]
     },
     "execution_count": 3,
     "metadata": {},
     "output_type": "execute_result"
    }
   ],
   "source": [
    "# load in the data\n",
    "train_data = pd.read_csv('../data/training.csv')\n",
    "train_data.head()"
   ]
  },
  {
   "cell_type": "code",
   "execution_count": 4,
   "metadata": {},
   "outputs": [
    {
     "name": "stdout",
     "output_type": "stream",
     "text": [
      "No. of rows in training data:  84534\n",
      "No. of columns in training data:  10\n"
     ]
    }
   ],
   "source": [
    "#Check overall shape of the data\n",
    "n_obs = train_data.shape[0]\n",
    "\n",
    "print(\"No. of rows in training data: \", n_obs)\n",
    "print(\"No. of columns in training data: \", train_data.shape[1])"
   ]
  },
  {
   "cell_type": "code",
   "execution_count": 5,
   "metadata": {
    "scrolled": true
   },
   "outputs": [
    {
     "name": "stdout",
     "output_type": "stream",
     "text": [
      "No. of people in Control group:  42170\n",
      "No. of people in Treatment group:  42364\n",
      "average difference in group:  0.002294934582534838\n"
     ]
    }
   ],
   "source": [
    "#Checking the number of people in control and experiment group\n",
    "\n",
    "non_promotion_group = train_data[(train_data.Promotion == \"No\")]\n",
    "promotion_group = train_data[(train_data.Promotion == \"Yes\")]\n",
    "\n",
    "n_control = non_promotion_group.shape[0]\n",
    "n_treatment = promotion_group.shape[0]\n",
    "obs_diff = (n_treatment - n_control)/train_data.shape[0]\n",
    "\n",
    "print(\"No. of people in Control group: \", n_control)\n",
    "print(\"No. of people in Treatment group: \", n_treatment)\n",
    "print(\"average difference in group: \", obs_diff)\n"
   ]
  },
  {
   "cell_type": "code",
   "execution_count": 6,
   "metadata": {},
   "outputs": [
    {
     "data": {
      "text/html": [
       "<div>\n",
       "<style scoped>\n",
       "    .dataframe tbody tr th:only-of-type {\n",
       "        vertical-align: middle;\n",
       "    }\n",
       "\n",
       "    .dataframe tbody tr th {\n",
       "        vertical-align: top;\n",
       "    }\n",
       "\n",
       "    .dataframe thead th {\n",
       "        text-align: right;\n",
       "    }\n",
       "</style>\n",
       "<table border=\"1\" class=\"dataframe\">\n",
       "  <thead>\n",
       "    <tr style=\"text-align: right;\">\n",
       "      <th></th>\n",
       "      <th>ID</th>\n",
       "      <th>purchase</th>\n",
       "      <th>V1</th>\n",
       "      <th>V2</th>\n",
       "      <th>V3</th>\n",
       "      <th>V4</th>\n",
       "      <th>V5</th>\n",
       "      <th>V6</th>\n",
       "      <th>V7</th>\n",
       "    </tr>\n",
       "  </thead>\n",
       "  <tbody>\n",
       "    <tr>\n",
       "      <th>count</th>\n",
       "      <td>84534.000000</td>\n",
       "      <td>84534.000000</td>\n",
       "      <td>84534.000000</td>\n",
       "      <td>84534.000000</td>\n",
       "      <td>84534.000000</td>\n",
       "      <td>84534.000000</td>\n",
       "      <td>84534.000000</td>\n",
       "      <td>84534.000000</td>\n",
       "      <td>84534.000000</td>\n",
       "    </tr>\n",
       "    <tr>\n",
       "      <th>mean</th>\n",
       "      <td>62970.972413</td>\n",
       "      <td>0.012303</td>\n",
       "      <td>1.500662</td>\n",
       "      <td>29.973600</td>\n",
       "      <td>0.000190</td>\n",
       "      <td>1.679608</td>\n",
       "      <td>2.327643</td>\n",
       "      <td>2.502898</td>\n",
       "      <td>1.701694</td>\n",
       "    </tr>\n",
       "    <tr>\n",
       "      <th>std</th>\n",
       "      <td>36418.440539</td>\n",
       "      <td>0.110234</td>\n",
       "      <td>0.868234</td>\n",
       "      <td>5.010626</td>\n",
       "      <td>1.000485</td>\n",
       "      <td>0.466630</td>\n",
       "      <td>0.841167</td>\n",
       "      <td>1.117349</td>\n",
       "      <td>0.457517</td>\n",
       "    </tr>\n",
       "    <tr>\n",
       "      <th>min</th>\n",
       "      <td>1.000000</td>\n",
       "      <td>0.000000</td>\n",
       "      <td>0.000000</td>\n",
       "      <td>7.104007</td>\n",
       "      <td>-1.684550</td>\n",
       "      <td>1.000000</td>\n",
       "      <td>1.000000</td>\n",
       "      <td>1.000000</td>\n",
       "      <td>1.000000</td>\n",
       "    </tr>\n",
       "    <tr>\n",
       "      <th>25%</th>\n",
       "      <td>31467.250000</td>\n",
       "      <td>0.000000</td>\n",
       "      <td>1.000000</td>\n",
       "      <td>26.591501</td>\n",
       "      <td>-0.905350</td>\n",
       "      <td>1.000000</td>\n",
       "      <td>2.000000</td>\n",
       "      <td>2.000000</td>\n",
       "      <td>1.000000</td>\n",
       "    </tr>\n",
       "    <tr>\n",
       "      <th>50%</th>\n",
       "      <td>62827.500000</td>\n",
       "      <td>0.000000</td>\n",
       "      <td>2.000000</td>\n",
       "      <td>29.979744</td>\n",
       "      <td>-0.039572</td>\n",
       "      <td>2.000000</td>\n",
       "      <td>2.000000</td>\n",
       "      <td>3.000000</td>\n",
       "      <td>2.000000</td>\n",
       "    </tr>\n",
       "    <tr>\n",
       "      <th>75%</th>\n",
       "      <td>94438.750000</td>\n",
       "      <td>0.000000</td>\n",
       "      <td>2.000000</td>\n",
       "      <td>33.344593</td>\n",
       "      <td>0.826206</td>\n",
       "      <td>2.000000</td>\n",
       "      <td>3.000000</td>\n",
       "      <td>4.000000</td>\n",
       "      <td>2.000000</td>\n",
       "    </tr>\n",
       "    <tr>\n",
       "      <th>max</th>\n",
       "      <td>126184.000000</td>\n",
       "      <td>1.000000</td>\n",
       "      <td>3.000000</td>\n",
       "      <td>50.375913</td>\n",
       "      <td>1.691984</td>\n",
       "      <td>2.000000</td>\n",
       "      <td>4.000000</td>\n",
       "      <td>4.000000</td>\n",
       "      <td>2.000000</td>\n",
       "    </tr>\n",
       "  </tbody>\n",
       "</table>\n",
       "</div>"
      ],
      "text/plain": [
       "                  ID      purchase            V1            V2            V3  \\\n",
       "count   84534.000000  84534.000000  84534.000000  84534.000000  84534.000000   \n",
       "mean    62970.972413      0.012303      1.500662     29.973600      0.000190   \n",
       "std     36418.440539      0.110234      0.868234      5.010626      1.000485   \n",
       "min         1.000000      0.000000      0.000000      7.104007     -1.684550   \n",
       "25%     31467.250000      0.000000      1.000000     26.591501     -0.905350   \n",
       "50%     62827.500000      0.000000      2.000000     29.979744     -0.039572   \n",
       "75%     94438.750000      0.000000      2.000000     33.344593      0.826206   \n",
       "max    126184.000000      1.000000      3.000000     50.375913      1.691984   \n",
       "\n",
       "                 V4            V5            V6            V7  \n",
       "count  84534.000000  84534.000000  84534.000000  84534.000000  \n",
       "mean       1.679608      2.327643      2.502898      1.701694  \n",
       "std        0.466630      0.841167      1.117349      0.457517  \n",
       "min        1.000000      1.000000      1.000000      1.000000  \n",
       "25%        1.000000      2.000000      2.000000      1.000000  \n",
       "50%        2.000000      2.000000      3.000000      2.000000  \n",
       "75%        2.000000      3.000000      4.000000      2.000000  \n",
       "max        2.000000      4.000000      4.000000      2.000000  "
      ]
     },
     "execution_count": 6,
     "metadata": {},
     "output_type": "execute_result"
    }
   ],
   "source": [
    "#statistics\n",
    "train_data.describe()"
   ]
  },
  {
   "cell_type": "code",
   "execution_count": 7,
   "metadata": {},
   "outputs": [
    {
     "data": {
      "text/plain": [
       "0.017019167217448776"
      ]
     },
     "execution_count": 7,
     "metadata": {},
     "output_type": "execute_result"
    }
   ],
   "source": [
    "# mean purchase rate for customer who received promotion\n",
    "\n",
    "train_data[train_data.Promotion == \"Yes\"].purchase.mean()"
   ]
  },
  {
   "cell_type": "markdown",
   "metadata": {},
   "source": [
    "### Skewed Dataset\n",
    "\n",
    "When dealing with imbalanced datasets, such as our case where only 1.7% of the experimental group made a purchase, a model that predicts no one will make a purchase would still be correct 98.3% of the time. This results in a high accuracy of 98.3%, but it's misleading because it fails to identify the minority class (purchasers). To address this issue, techniques like oversampling the minority class can be employed. We will handle this imbalance later."
   ]
  },
  {
   "cell_type": "code",
   "execution_count": 8,
   "metadata": {
    "scrolled": true
   },
   "outputs": [
    {
     "data": {
      "image/png": "[encoded data removed]",
      "text/plain": [
       "<Figure size 640x480 with 1 Axes>"
      ]
     },
     "metadata": {},
     "output_type": "display_data"
    }
   ],
   "source": [
    "# Create a boxplot of features\n",
    "fig, ax = plt.subplots()\n",
    "ax.boxplot(train_data[[\"V1\", \"V2\", \"V3\", \"V4\", \"V5\", \"V6\", \"V7\"]])\n",
    "\n",
    "# Set the title and axis labels\n",
    "ax.set_title(\"Boxplot of V1 to V7\")\n",
    "ax.set_xlabel(\"V1 to V7\")\n",
    "ax.set_ylabel(\"Value\")\n",
    "\n",
    "# Show the plot\n",
    "plt.show()"
   ]
  },
  {
   "cell_type": "markdown",
   "metadata": {},
   "source": [
    "* As one can observe, V2 features has some outliers"
   ]
  },
  {
   "cell_type": "code",
   "execution_count": 9,
   "metadata": {},
   "outputs": [
    {
     "name": "stdout",
     "output_type": "stream",
     "text": [
      "Ratio of Outliers in 'V2': 0.0028\n"
     ]
    }
   ],
   "source": [
    "# Calculate the z-scores for the 'V2' feature\n",
    "z_scores = (train_data[\"V2\"] - train_data[\"V2\"].mean()) / train_data[\"V2\"].std()\n",
    "\n",
    "# Define the threshold for identifying outliers\n",
    "threshold = 3\n",
    "\n",
    "# Identify indices where the absolute value of z-scores is greater than the threshold\n",
    "outlier_ind = np.where(np.abs(z_scores) > threshold)\n",
    "\n",
    "# Calculate the ratio of outliers to the total number of observations\n",
    "ratio_outlier = len(outlier_ind[0]) / train_data['V2'].shape[0]\n",
    "\n",
    "print(f\"Ratio of Outliers in 'V2': {ratio_outlier:.4f}\")\n"
   ]
  },
  {
   "cell_type": "markdown",
   "metadata": {},
   "source": [
    "\n",
    "## 1) Calculating the Minimum Sample Size: Power Analysis\n",
    "\n",
    "Although this assignment does not specify a practical significance level, we can use the current purchase rates (p1 and p2) as a baseline. By setting our significance level $\\alpha=.05$, and $\\beta=.20$ which makes our desired power (1 - β) at 0.80, we can determine if our sample size is sufficiently large to support the conclusions drawn from the A/B testing."
   ]
  },
  {
   "cell_type": "code",
   "execution_count": 10,
   "metadata": {},
   "outputs": [],
   "source": [
    "# Calculate the total number of purchases in the treatment group\n",
    "purch_treat = train_data[train_data['Promotion'] == 'Yes']['purchase'].sum()\n",
    "\n",
    "# Calculate the total number of customers in the treatment group\n",
    "cust_treat = train_data.groupby('Promotion').size()[1]\n",
    "\n",
    "# Calculate the total number of purchases in the control group\n",
    "purch_ctrl = train_data[train_data['Promotion'] == 'No']['purchase'].sum()\n",
    "\n",
    "# Calculate the total number of customers in the control group\n",
    "cust_ctrl = train_data.groupby('Promotion').size()[0]"
   ]
  },
  {
   "cell_type": "code",
   "execution_count": 11,
   "metadata": {},
   "outputs": [
    {
     "name": "stdout",
     "output_type": "stream",
     "text": [
      "\n",
      "Purchase Rate of Control: 0.007564619397676073\n",
      "Purchase Rate of Treatment: 0.017019167217448776\n",
      "Purchase Rate Diff : 0.009454547819772702\n",
      "\n"
     ]
    }
   ],
   "source": [
    "# define alpha and beta\n",
    "alpha = 0.05\n",
    "beta = 0.20\n",
    "power = 1 - beta\n",
    "\n",
    "# calculate purchase rate from group 1 and group 2 as baseline\n",
    "purch_rate_treat = purch_treat / n_treatment\n",
    "purch_rate_ctrl = purch_ctrl / n_control\n",
    "print(\n",
    "    f\"\"\"\n",
    "Purchase Rate of Control: {purch_rate_ctrl}\n",
    "Purchase Rate of Treatment: {purch_rate_treat}\n",
    "Purchase Rate Diff : {purch_rate_treat - purch_rate_ctrl }\n",
    "\"\"\"\n",
    ")"
   ]
  },
  {
   "cell_type": "code",
   "execution_count": 12,
   "metadata": {},
   "outputs": [
    {
     "data": {
      "text/plain": [
       "1615.3610613913452"
      ]
     },
     "execution_count": 12,
     "metadata": {},
     "output_type": "execute_result"
    }
   ],
   "source": [
    "# power analysis for sample size\n",
    "power_analysis = NormalIndPower()\n",
    "power_analysis.solve_power(\n",
    "    effect_size=proportion_effectsize(purch_rate_treat, purch_rate_ctrl),\n",
    "    alpha=alpha,\n",
    "    power=power,\n",
    "    alternative=\"larger\",\n",
    ")"
   ]
  },
  {
   "cell_type": "markdown",
   "metadata": {},
   "source": [
    "#### 1) Conclusion\n",
    "$cust_{ctrl} = 42170 > 1616, cust_{treat} = 42364 > 1616$. we can confidently conduct A/B testing. The sample sizes are large enough to ensure the robustness of our results and support our conclusions.\n",
    "\n"
   ]
  },
  {
   "cell_type": "markdown",
   "metadata": {},
   "source": [
    "## 2) Invariant Metrics for Experiment Validation\n",
    "\n",
    "* My initial step will be to analyze the invariant metric of participant numbers in our control and experimental groups"
   ]
  },
  {
   "cell_type": "markdown",
   "metadata": {},
   "source": [
    "#### Thus, our null and alternative hypotheses are as follows:\n",
    "\n",
    "$$H_{null} = Customer_{treatment} - Customer_{control} = 0$$\n",
    "$$H_{alternative} = Customer_{treatment} - Customer_{control} \\neq 0$$\n",
    "$$ Alpha  (\\alpha) = 0.05 $$"
   ]
  },
  {
   "cell_type": "markdown",
   "metadata": {},
   "source": [
    "### Bootstrapping Approach"
   ]
  },
  {
   "cell_type": "code",
   "execution_count": 13,
   "metadata": {},
   "outputs": [],
   "source": [
    "#Bootstrapping to generate samples\n",
    "\n",
    "avg_diff = []\n",
    "\n",
    "for _ in range(10000):\n",
    "    samples = train_data.sample(25000, replace = True)\n",
    "    treatment_avg = (samples['Promotion'] == 'Yes').mean()\n",
    "    control_avg = (samples['Promotion'] == 'No').mean()\n",
    "    avg_diff.append(treatment_avg - control_avg)"
   ]
  },
  {
   "cell_type": "code",
   "execution_count": 14,
   "metadata": {
    "scrolled": false
   },
   "outputs": [
    {
     "data": {
      "image/png": "[encoded data removed]",
      "text/plain": [
       "<Figure size 640x480 with 1 Axes>"
      ]
     },
     "metadata": {},
     "output_type": "display_data"
    }
   ],
   "source": [
    "#Visualization of average differences\n",
    "plt.hist(avg_diff);"
   ]
  },
  {
   "cell_type": "markdown",
   "metadata": {},
   "source": [
    "* As we can see it closely resembles normal distribution"
   ]
  },
  {
   "cell_type": "code",
   "execution_count": 15,
   "metadata": {
    "scrolled": true
   },
   "outputs": [
    {
     "data": {
      "image/png": "[encoded data removed]",
      "text/plain": [
       "<Figure size 640x480 with 1 Axes>"
      ]
     },
     "metadata": {},
     "output_type": "display_data"
    }
   ],
   "source": [
    "#simulate and visualize differences under null hypothesis with vertical line (observed difference)\n",
    "\n",
    "avg_null_diff  = np.random.normal(0, np.std(avg_diff), 10000)\n",
    "plt.hist(avg_null_diff, bins = 60)\n",
    "plt.axvline(obs_diff, color = 'r', label = 'Observed difference')\n",
    "plt.legend(loc='upper right')\n",
    "plt.title(\"Normal Distribution under the Null Hypothesis\");"
   ]
  },
  {
   "cell_type": "markdown",
   "metadata": {},
   "source": [
    "* Our observed statistic line looks well under 95% confidence interval"
   ]
  },
  {
   "cell_type": "code",
   "execution_count": 16,
   "metadata": {},
   "outputs": [
    {
     "name": "stdout",
     "output_type": "stream",
     "text": [
      "P-value under boostraping approach:  0.6426\n"
     ]
    }
   ],
   "source": [
    "p_value = (avg_null_diff <= obs_diff).mean()\n",
    "print(\"P-value under boostraping approach: \", p_value)"
   ]
  },
  {
   "cell_type": "markdown",
   "metadata": {},
   "source": [
    "### Simulation Approach with Binomial distribution"
   ]
  },
  {
   "cell_type": "code",
   "execution_count": 17,
   "metadata": {
    "scrolled": true
   },
   "outputs": [
    {
     "name": "stdout",
     "output_type": "stream",
     "text": [
      "P-value under binomial simulation approach:  0.50525\n"
     ]
    }
   ],
   "source": [
    "# # simulate outcomes under null, compare to observed outcome\n",
    "p = 0.5\n",
    "n_obs = train_data.shape[0]\n",
    "n_simulations = 200_000\n",
    "\n",
    "sim_samples = np.random.binomial(n_obs, p, n_simulations)\n",
    "\n",
    "p_value = np.logical_or(sim_samples <= n_control, sim_samples >= n_treatment).mean()\n",
    "print(\"P-value under binomial simulation approach: \", p_value)"
   ]
  },
  {
   "cell_type": "markdown",
   "metadata": {},
   "source": [
    "#### 2) Conclusion\n",
    "\n",
    "As we can see our P-value is well within confidence interval, we do not have sufficient evidence to conclude that there is a difference in proportions between the control and treatment groups."
   ]
  },
  {
   "cell_type": "markdown",
   "metadata": {},
   "source": [
    "## 3) Analyzing Incremental Response Rate (IRR)"
   ]
  },
  {
   "cell_type": "markdown",
   "metadata": {},
   "source": [
    "We will assess the experiment's effectiveness in influencing the IIR metric.\n",
    "\n",
    "Outlined below are the hypotheses guiding our analysis:\n",
    "\n",
    "$$H_{0}:Incremental Response Rate = 0$$\n",
    "$$H_{a}:Incremental Response Rate > 0$$\n",
    "\n",
    "\n",
    "Our *Alpha value* with the Bonferroni Correction:\n",
    "$$Bonferroni Correction = \\frac{\\alpha}{number-of-measures} = 0.025$$\n",
    "$$\\alpha = 0.025$$\n",
    "\n",
    "Where:\n",
    "$$ IRR = \\frac{purch_{treat}}{cust_{treat}} - \\frac{purch_{ctrl}}{cust_{ctrl}} $$"
   ]
  },
  {
   "cell_type": "code",
   "execution_count": 18,
   "metadata": {},
   "outputs": [],
   "source": [
    "# Calculate the total number of purchases in the treatment group\n",
    "purch_treat = train_data[train_data['Promotion'] == 'Yes']['purchase'].sum()\n",
    "\n",
    "# Calculate the total number of customers in the treatment group\n",
    "cust_treat = train_data.groupby('Promotion').size()[1]\n",
    "\n",
    "# Calculate the total number of purchases in the control group\n",
    "purch_ctrl = train_data[train_data['Promotion'] == 'No']['purchase'].sum()\n",
    "\n",
    "# Calculate the total number of customers in the control group\n",
    "cust_ctrl = train_data.groupby('Promotion').size()[0]\n",
    "\n",
    "# Compute the Incremental Response Rate (IRR)\n",
    "IRR = (purch_treat/cust_treat) - (purch_ctrl/cust_ctrl)"
   ]
  },
  {
   "cell_type": "code",
   "execution_count": 19,
   "metadata": {},
   "outputs": [
    {
     "data": {
      "text/plain": [
       "0.009454547819772702"
      ]
     },
     "execution_count": 19,
     "metadata": {},
     "output_type": "execute_result"
    }
   ],
   "source": [
    "IRR"
   ]
  },
  {
   "cell_type": "code",
   "execution_count": 20,
   "metadata": {},
   "outputs": [],
   "source": [
    "# Initialize a list to store IRR samples\n",
    "IRR_samples = []\n",
    "\n",
    "# Generate 10,000 bootstrap samples\n",
    "for _ in range(10000):\n",
    "    # Sample 25,000 observations with replacement\n",
    "    samples = train_data.sample(25000, replace=True)\n",
    "    \n",
    "    # Calculate purchases and customers for treatment and control groups in the sample\n",
    "    sample_purch_treat = samples[samples['Promotion'] == 'Yes']['purchase'].sum()\n",
    "    sample_cust_treat = samples.groupby('Promotion').size()[1]\n",
    "    sample_purch_ctrl = samples[samples['Promotion'] == 'No']['purchase'].sum()\n",
    "    sample_cust_ctrl = samples.groupby('Promotion').size()[0]\n",
    "    \n",
    "    # Compute IRR for the sample and append to the list\n",
    "    IRR_sample = (sample_purch_treat/sample_cust_treat) - (sample_purch_ctrl/sample_cust_ctrl)\n",
    "    IRR_samples.append(IRR_sample)"
   ]
  },
  {
   "cell_type": "code",
   "execution_count": 21,
   "metadata": {
    "scrolled": true
   },
   "outputs": [
    {
     "data": {
      "image/png": "[encoded data removed]",
      "text/plain": [
       "<Figure size 640x480 with 1 Axes>"
      ]
     },
     "metadata": {},
     "output_type": "display_data"
    }
   ],
   "source": [
    "# Generate null distribution of IRR\n",
    "null_IRR = np.random.normal(0, np.std(IRR_samples), 10000)\n",
    "\n",
    "# Plot histogram and observed IRR\n",
    "plt.hist(null_IRR, bins=60)\n",
    "plt.axvline(IRR, color='r', label='Observed IRR')\n",
    "\n",
    "# Adjust legend and title\n",
    "plt.legend(loc='upper right', bbox_to_anchor=(0.90, 0.95))\n",
    "plt.title(\"Distribution under the Null Hypothesis\");"
   ]
  },
  {
   "cell_type": "markdown",
   "metadata": {},
   "source": [
    "* Our observed statistical IRR looks very extreme well beyong the confidence interval."
   ]
  },
  {
   "cell_type": "code",
   "execution_count": 22,
   "metadata": {},
   "outputs": [
    {
     "data": {
      "text/plain": [
       "0.0"
      ]
     },
     "execution_count": 22,
     "metadata": {},
     "output_type": "execute_result"
    }
   ],
   "source": [
    "# Compute P value\n",
    "\n",
    "p_value = (null_IRR > IRR).mean()\n",
    "p_value"
   ]
  },
  {
   "cell_type": "markdown",
   "metadata": {},
   "source": [
    "#### 3) Conclusion\n",
    "* Our p-value is extremely small, indicating almost a 0% chance of the observed results occurring under the null hypothesis. Therefore, we reject the null hypothesis. \n",
    "* This implies a statistically significant increase in IRR between our control and experimental groups. \n",
    "* Consequently, we conclude that our campaign has a positive effect on the number of customers who purchased the product with the promotion, compared to those who did not receive the promotion."
   ]
  },
  {
   "cell_type": "markdown",
   "metadata": {},
   "source": [
    "## 4) Analyzing Net Incremental Revenue (NIR)"
   ]
  },
  {
   "cell_type": "markdown",
   "metadata": {},
   "source": [
    "Now, we will assess the experiment's effectiveness in influencing the NIR metric.\n",
    "\n",
    "Outlined below are the hypotheses guiding our analysis:\n",
    "\n",
    "$$H_{0}:Net Incremental Revenue = 0$$\n",
    "$$H_{a}:Net Incremental Revenue > 0$$\n",
    "\n",
    "\n",
    "Our *Alpha value* with the Bonferroni Correction:\n",
    "$$Bonferroni Correction = \\frac{\\alpha}{number-of-measures} = 0.025$$\n",
    "$$\\alpha = 0.025$$\n",
    "\n",
    "Where:\n",
    "$$ NIR = (10\\cdot purch_{treat} - 0.15 \\cdot cust_{treat}) - 10 \\cdot purch_{ctrl}$$"
   ]
  },
  {
   "cell_type": "code",
   "execution_count": 23,
   "metadata": {},
   "outputs": [],
   "source": [
    "# Calculate total purchases in the treatment group\n",
    "purch_treat = train_data[train_data['Promotion'] == 'Yes']['purchase'].sum()\n",
    "\n",
    "# Calculate total customers in the treatment group\n",
    "cust_treat = train_data.groupby('Promotion').size()[1]\n",
    "\n",
    "# Calculate total purchases in the control group\n",
    "purch_ctrl = train_data[train_data['Promotion'] == 'No']['purchase'].sum()\n",
    "\n",
    "# Calculate Net Incremental Revenue (NIR) using given formula\n",
    "NIR = (10 * purch_treat - 0.15 * cust_treat) - 10 * purch_ctrl"
   ]
  },
  {
   "cell_type": "code",
   "execution_count": 24,
   "metadata": {
    "scrolled": true
   },
   "outputs": [
    {
     "data": {
      "text/plain": [
       "-2334.5999999999995"
      ]
     },
     "execution_count": 24,
     "metadata": {},
     "output_type": "execute_result"
    }
   ],
   "source": [
    "NIR"
   ]
  },
  {
   "cell_type": "code",
   "execution_count": 25,
   "metadata": {},
   "outputs": [],
   "source": [
    "# Initialize an empty list to store NIR samples\n",
    "NIR_samples = []\n",
    "\n",
    "# Perform bootstrapping to generate 10,000 samples\n",
    "for _ in range(10000):\n",
    "    # Sample 25,000 observations with replacement from the original data\n",
    "    samples = train_data.sample(25000, replace=True)\n",
    "    \n",
    "    # Calculate purchases and customers for treatment and control groups in the sample\n",
    "    sample_purch_treat = samples[samples['Promotion'] == 'Yes']['purchase'].sum()\n",
    "    sample_cust_treat = samples.groupby('Promotion').size()[1]\n",
    "    sample_purch_ctrl = samples[samples['Promotion'] == 'No']['purchase'].sum()\n",
    "    \n",
    "    # Compute NIR for the sample and append to the list\n",
    "    NIR_sample = (10 * sample_purch_treat - 0.15 * sample_cust_treat) - 10 * sample_purch_ctrl\n",
    "    NIR_samples.append(NIR_sample)"
   ]
  },
  {
   "cell_type": "code",
   "execution_count": 26,
   "metadata": {
    "scrolled": true
   },
   "outputs": [
    {
     "data": {
      "image/png": "[encoded data removed]",
      "text/plain": [
       "<Figure size 640x480 with 1 Axes>"
      ]
     },
     "metadata": {},
     "output_type": "display_data"
    }
   ],
   "source": [
    "# Generate null distribution of NIR using a normal distribution\n",
    "null_NIR = np.random.normal(0, np.std(NIR_samples), 10000)\n",
    "\n",
    "# Plot histogram and observed NIR\n",
    "plt.hist(null_NIR, bins=60)\n",
    "plt.axvline(NIR, color='r', label='Observed NIR')\n",
    "\n",
    "# Adjust legend and title\n",
    "plt.legend(loc='upper left', bbox_to_anchor=(0.05, 0.95))\n",
    "plt.title(\"Distribution under the Null Hypothesis\");"
   ]
  },
  {
   "cell_type": "code",
   "execution_count": 27,
   "metadata": {},
   "outputs": [
    {
     "data": {
      "text/plain": [
       "1.0"
      ]
     },
     "execution_count": 27,
     "metadata": {},
     "output_type": "execute_result"
    }
   ],
   "source": [
    "# Compute P vale\n",
    "\n",
    "p_value = (null_NIR > NIR).mean()\n",
    "p_value"
   ]
  },
  {
   "cell_type": "markdown",
   "metadata": {},
   "source": [
    "#### 4) Conclusion\n",
    "\n",
    "Regarding our hypothesis, we aimed to determine if there was a positive impact on NIR. However, as shown in the graph, the observed value falls well behind the null distribution. Therefore, there is no evidence to reject the null hypothesis."
   ]
  },
  {
   "cell_type": "markdown",
   "metadata": {},
   "source": [
    "## 5) Modeling"
   ]
  },
  {
   "cell_type": "markdown",
   "metadata": {},
   "source": [
    "* With our statistical analysis finished, our next step is to develop a model that accurately predicts how customers respond to the campaign, using it to further explore and validate our findings"
   ]
  },
  {
   "cell_type": "code",
   "execution_count": 28,
   "metadata": {},
   "outputs": [],
   "source": [
    "# evaluation function from Starbucks\n",
    "def score(df, promo_pred_col = 'Promotion'):\n",
    "    n_treat       = df.loc[df[promo_pred_col] == 'Yes',:].shape[0]\n",
    "    n_control     = df.loc[df[promo_pred_col] == 'No',:].shape[0]\n",
    "    n_treat_purch = df.loc[df[promo_pred_col] == 'Yes', 'purchase'].sum()\n",
    "    n_ctrl_purch  = df.loc[df[promo_pred_col] == 'No', 'purchase'].sum()\n",
    "    irr = n_treat_purch / n_treat - n_ctrl_purch / n_control\n",
    "    nir = 10 * n_treat_purch - 0.15 * n_treat - 10 * n_ctrl_purch\n",
    "    return (irr, nir)\n",
    "    \n",
    "# evaluation function from Starbucks\n",
    "def test_results(promotion_strategy):\n",
    "    test_data = pd.read_csv('https://raw.githubusercontent.com/ZacksAmber/Starbucks/main/data/Test.csv')\n",
    "    df = test_data[['V1', 'V2', 'V3', 'V4', 'V5', 'V6', 'V7']]\n",
    "    promos = promotion_strategy(df)\n",
    "    score_df = test_data.iloc[np.where(promos == 'Yes')]    \n",
    "    irr, nir = score(score_df)\n",
    "    print(\"Nice job!  See how well your strategy worked on our test data below!\")\n",
    "    print()\n",
    "    print('Your irr with this strategy is {:0.4f}.'.format(irr))\n",
    "    print()\n",
    "    print('Your nir with this strategy is {:0.2f}.'.format(nir))\n",
    "    \n",
    "    print(\"We came up with a model with an irr of {} and an nir of {} on the test set.\\n\\n How did you do?\".format(0.0188, 189.45))\n",
    "    return irr, nir"
   ]
  },
  {
   "cell_type": "code",
   "execution_count": 29,
   "metadata": {},
   "outputs": [
    {
     "data": {
      "text/html": [
       "<div>\n",
       "<style scoped>\n",
       "    .dataframe tbody tr th:only-of-type {\n",
       "        vertical-align: middle;\n",
       "    }\n",
       "\n",
       "    .dataframe tbody tr th {\n",
       "        vertical-align: top;\n",
       "    }\n",
       "\n",
       "    .dataframe thead th {\n",
       "        text-align: right;\n",
       "    }\n",
       "</style>\n",
       "<table border=\"1\" class=\"dataframe\">\n",
       "  <thead>\n",
       "    <tr style=\"text-align: right;\">\n",
       "      <th></th>\n",
       "      <th>ID</th>\n",
       "      <th>Promotion</th>\n",
       "      <th>purchase</th>\n",
       "      <th>V1</th>\n",
       "      <th>V2</th>\n",
       "      <th>V3</th>\n",
       "      <th>V4</th>\n",
       "      <th>V5</th>\n",
       "      <th>V6</th>\n",
       "      <th>V7</th>\n",
       "    </tr>\n",
       "  </thead>\n",
       "  <tbody>\n",
       "    <tr>\n",
       "      <th>0</th>\n",
       "      <td>1</td>\n",
       "      <td>No</td>\n",
       "      <td>0</td>\n",
       "      <td>2</td>\n",
       "      <td>30.443518</td>\n",
       "      <td>-1.165083</td>\n",
       "      <td>1</td>\n",
       "      <td>1</td>\n",
       "      <td>3</td>\n",
       "      <td>2</td>\n",
       "    </tr>\n",
       "    <tr>\n",
       "      <th>1</th>\n",
       "      <td>3</td>\n",
       "      <td>No</td>\n",
       "      <td>0</td>\n",
       "      <td>3</td>\n",
       "      <td>32.159350</td>\n",
       "      <td>-0.645617</td>\n",
       "      <td>2</td>\n",
       "      <td>3</td>\n",
       "      <td>2</td>\n",
       "      <td>2</td>\n",
       "    </tr>\n",
       "    <tr>\n",
       "      <th>2</th>\n",
       "      <td>4</td>\n",
       "      <td>No</td>\n",
       "      <td>0</td>\n",
       "      <td>2</td>\n",
       "      <td>30.431659</td>\n",
       "      <td>0.133583</td>\n",
       "      <td>1</td>\n",
       "      <td>1</td>\n",
       "      <td>4</td>\n",
       "      <td>2</td>\n",
       "    </tr>\n",
       "    <tr>\n",
       "      <th>3</th>\n",
       "      <td>5</td>\n",
       "      <td>No</td>\n",
       "      <td>0</td>\n",
       "      <td>0</td>\n",
       "      <td>26.588914</td>\n",
       "      <td>-0.212728</td>\n",
       "      <td>2</td>\n",
       "      <td>1</td>\n",
       "      <td>4</td>\n",
       "      <td>2</td>\n",
       "    </tr>\n",
       "    <tr>\n",
       "      <th>4</th>\n",
       "      <td>8</td>\n",
       "      <td>Yes</td>\n",
       "      <td>0</td>\n",
       "      <td>3</td>\n",
       "      <td>28.044331</td>\n",
       "      <td>-0.385883</td>\n",
       "      <td>1</td>\n",
       "      <td>1</td>\n",
       "      <td>2</td>\n",
       "      <td>2</td>\n",
       "    </tr>\n",
       "  </tbody>\n",
       "</table>\n",
       "</div>"
      ],
      "text/plain": [
       "   ID Promotion  purchase  V1         V2        V3  V4  V5  V6  V7\n",
       "0   1        No         0   2  30.443518 -1.165083   1   1   3   2\n",
       "1   3        No         0   3  32.159350 -0.645617   2   3   2   2\n",
       "2   4        No         0   2  30.431659  0.133583   1   1   4   2\n",
       "3   5        No         0   0  26.588914 -0.212728   2   1   4   2\n",
       "4   8       Yes         0   3  28.044331 -0.385883   1   1   2   2"
      ]
     },
     "execution_count": 29,
     "metadata": {},
     "output_type": "execute_result"
    }
   ],
   "source": [
    "#Training data\n",
    "\n",
    "train_data.head()"
   ]
  },
  {
   "cell_type": "code",
   "execution_count": 30,
   "metadata": {},
   "outputs": [],
   "source": [
    "# if we send out promotions to all of the customers\n",
    "\n",
    "def promotion_strategy(df):\n",
    "    \n",
    "    promotion = np.array(['Yes'] * df.shape[0])\n",
    "    \n",
    "    \n",
    "    return promotion"
   ]
  },
  {
   "cell_type": "code",
   "execution_count": 31,
   "metadata": {},
   "outputs": [
    {
     "name": "stdout",
     "output_type": "stream",
     "text": [
      "Nice job!  See how well your strategy worked on our test data below!\n",
      "\n",
      "Your irr with this strategy is 0.0096.\n",
      "\n",
      "Your nir with this strategy is -1132.20.\n",
      "We came up with a model with an irr of 0.0188 and an nir of 189.45 on the test set.\n",
      "\n",
      " How did you do?\n"
     ]
    }
   ],
   "source": [
    "# This will test your results, and provide you back some information \n",
    "# on how well your promotion_strategy will work in practice\n",
    "\n",
    "all_irr, all_nir = test_results(promotion_strategy)"
   ]
  },
  {
   "cell_type": "code",
   "execution_count": 32,
   "metadata": {},
   "outputs": [
    {
     "name": "stdout",
     "output_type": "stream",
     "text": [
      "IRR:  0.009454547819772702\n",
      "NIR:  -2334.5999999999995\n"
     ]
    }
   ],
   "source": [
    "# Baseline IRR and NIR when we sent promotion randomly\n",
    "\n",
    "print(\"IRR: \", IRR)\n",
    "print(\"NIR: \", NIR)"
   ]
  },
  {
   "cell_type": "markdown",
   "metadata": {},
   "source": [
    "With every customer receiving a promotion, the IRR remains nearly the same at 0.0096, which is expected since the promotions were randomly assigned in the sample dataset. Although we managed to increase the NIR to -$1132.20, it is still negative, indicating that the current promotion strategy is not effective in improving the NIR. Therefore, we should not pursue this promotion strategy. Instead, we can leverage Machine Learning to develop a better promotion strategy that yields a higher IRR and NIR"
   ]
  },
  {
   "cell_type": "markdown",
   "metadata": {},
   "source": [
    "## Feature Selection\n",
    "* We will utilize available features from \"V1\" to \"V7\" for our machine learning model, similar to the approach Starbucks employs for evaluation\n"
   ]
  },
  {
   "cell_type": "markdown",
   "metadata": {},
   "source": [
    "## Model Selection\n",
    "\n",
    "* The target variable, purchase, is labeled data, making supervised learning the ideal approach. Given that purchase is a boolean variable, a classifier is needed for this classification task. \n",
    "* I have chosen three widely used classification algorithms— **Random Forest Classifier, Logistic Regression and XGBoost Classifier -** —as model baselines, employing default settings and a fixed random state."
   ]
  },
  {
   "cell_type": "code",
   "execution_count": 33,
   "metadata": {
    "scrolled": true
   },
   "outputs": [
    {
     "data": {
      "text/html": [
       "<div>\n",
       "<style scoped>\n",
       "    .dataframe tbody tr th:only-of-type {\n",
       "        vertical-align: middle;\n",
       "    }\n",
       "\n",
       "    .dataframe tbody tr th {\n",
       "        vertical-align: top;\n",
       "    }\n",
       "\n",
       "    .dataframe thead th {\n",
       "        text-align: right;\n",
       "    }\n",
       "</style>\n",
       "<table border=\"1\" class=\"dataframe\">\n",
       "  <thead>\n",
       "    <tr style=\"text-align: right;\">\n",
       "      <th></th>\n",
       "      <th>Model</th>\n",
       "      <th>IRR</th>\n",
       "      <th>NIR</th>\n",
       "    </tr>\n",
       "  </thead>\n",
       "  <tbody>\n",
       "    <tr>\n",
       "      <th>0</th>\n",
       "      <td>Random Forest Classifier</td>\n",
       "      <td>0.000000</td>\n",
       "      <td>-2.4</td>\n",
       "    </tr>\n",
       "    <tr>\n",
       "      <th>1</th>\n",
       "      <td>Logistic Regression</td>\n",
       "      <td>0.014738</td>\n",
       "      <td>-32.4</td>\n",
       "    </tr>\n",
       "    <tr>\n",
       "      <th>2</th>\n",
       "      <td>XGBoost Classifier</td>\n",
       "      <td>0.018874</td>\n",
       "      <td>56.0</td>\n",
       "    </tr>\n",
       "  </tbody>\n",
       "</table>\n",
       "</div>"
      ],
      "text/plain": [
       "                      Model       IRR   NIR\n",
       "0  Random Forest Classifier  0.000000  -2.4\n",
       "1       Logistic Regression  0.014738 -32.4\n",
       "2        XGBoost Classifier  0.018874  56.0"
      ]
     },
     "execution_count": 33,
     "metadata": {},
     "output_type": "execute_result"
    }
   ],
   "source": [
    "pd.read_csv(\"../reports/baselines/model_baseline.csv\")"
   ]
  },
  {
   "cell_type": "markdown",
   "metadata": {},
   "source": [
    "## Performance Metric Selection\n",
    "\n",
    "Having selected our ML model, it's essential to choose the right metrics for evaluating its performance. We will refer to our previous analysis in the Data/Business Understanding section to guide this decision.\n",
    "\n",
    "### Predicted vs. Actual Promotion Outcomes\n",
    "\n",
    "<table>\n",
    "<tr><th></th><th colspan='2'>Actual</th></tr>\n",
    "<tr><th>Predicted</th><th>Yes</th><th>No</th></tr>\n",
    "<tr><th>Yes</th><td>I</td><td>II</td></tr>\n",
    "<tr><th>No</th><td>III</td><td>IV</td></tr>\n",
    "</table>\n",
    "\n",
    "### Customer Categories Based on Model Predictions\n",
    "\n",
    "| Category | Description | Promotion Sent | Purchase Made | Net Profit (\\$) |\n",
    "|:---:|:---:|:---:|:---:|:---:|\n",
    "| I | True Positive (TP) | Yes | Yes | 9.00 |\n",
    "| II | False Positive (FP) | Yes | No | -0.50 |\n",
    "| III | False Negative (FN) | No | Yes | 10.00 |\n",
    "| IV | True Negative (TN) | No | No | 0.00 |\n",
    "\n",
    "**Descriptions:**\n",
    "\n",
    "**Type I (True Positive):** We correctly predict that a customer will make a purchase and send them a promotion. The customer makes a purchase, validating the effectiveness of our promotion strategy.\n",
    "\n",
    "**Type II (False Positive):** We predict that a customer will make a purchase and send them a promotion, but the customer does not make a purchase. Reducing False Positives is crucial as they negatively impact Net Profit.\n",
    "\n",
    "**Type III (False Negative):** We predict that a customer will not make a purchase and refrain from sending a promotion, but the customer ends up making a purchase. Identifying these cases helps in targeting potential customers better.\n",
    "\n",
    "**Type IV (True Negative):** We correctly predict that a customer will not make a purchase and do not send a promotion. The customer does not make a purchase, aligning with our prediction.\n",
    "\n",
    "To optimize our model for the best business outcomes, we focus on the following key metrics:\n",
    "\n",
    "- **Recall Score (TPR):** $\\displaystyle \\frac{TP}{TP + FN}$\n",
    "- **Precision Score (PPV):** $\\displaystyle \\frac{TP}{TP + FP}$\n",
    "- **Treat Score:** A custom metric to evaluate overall effectiveness\n",
    "\n",
    "### Summary\n",
    "\n",
    "We aim to enhance either the TP rate or reduce the FP rate to positively impact key business metrics such as **IRR** and **NIR**. \n",
    "\n",
    "- **Recall Score (TPR):** $\\displaystyle \\frac{TP}{TP + FN}$\n",
    "- **Precision Score (PPV):** $\\displaystyle \\frac{TP}{TP + FP}$\n",
    "- **Treat Score:** $\\displaystyle \\frac{TP}{TP + FN + FP}$\n",
    "\n",
    "Additionally, we will establish baselines using common metrics such as accuracy, ROC AUC, and F1 score. For this project, three custom scorers—`irr_score`, `nir_score`, and `irr_nir_score`—are developed to approximate IRR and NIR without causing data leakage.\n"
   ]
  },
  {
   "cell_type": "code",
   "execution_count": 34,
   "metadata": {},
   "outputs": [],
   "source": [
    "# define treat score, see https://en.wikipedia.org/wiki/Confusion_matrix\n",
    "def treat_score(y_true, y_pred):\n",
    "    tn, fp, fn, tp = confusion_matrix(y_true, y_pred).ravel()\n",
    "    return tp / (tp + fn + fp)\n",
    "\n",
    "\n",
    "# define irr score\n",
    "def irr_score(y_true, y_pred):\n",
    "    tn, fp, fn, tp = confusion_matrix(y_true, y_pred).ravel()\n",
    "    return tp / (tp + fp) - fn / (fn + tn)\n",
    "\n",
    "\n",
    "# define nir score\n",
    "def nir_score(y_true, y_pred):\n",
    "    tn, fp, fn, tp = confusion_matrix(y_true, y_pred).ravel()\n",
    "    return (10 * tp - 0.15 * (tp + fp)) - 10 * fn\n",
    "\n",
    "\n",
    "# combine irr score and nir score together\n",
    "def irr_nir_score(y_true, y_pred):\n",
    "    irr = irr_score(y_true, y_pred)\n",
    "    nir = nir_score(y_true, y_pred)\n",
    "    return irr * nir"
   ]
  },
  {
   "cell_type": "markdown",
   "metadata": {},
   "source": [
    "The [Metric_Baseline](../notebooks/Metric_Baseline.ipynb) notebook tunned a XGBClassifier 500 rounds per metric for making the metric baseline. The results are in `../reports/baselines/metric_baseline.csv`.\n",
    "\n",
    "Next, we will tune the model with the top three metrics of NIR - irr_score, treat_score, and roc_auc."
   ]
  },
  {
   "cell_type": "code",
   "execution_count": 35,
   "metadata": {},
   "outputs": [
    {
     "data": {
      "text/html": [
       "<div>\n",
       "<style scoped>\n",
       "    .dataframe tbody tr th:only-of-type {\n",
       "        vertical-align: middle;\n",
       "    }\n",
       "\n",
       "    .dataframe tbody tr th {\n",
       "        vertical-align: top;\n",
       "    }\n",
       "\n",
       "    .dataframe thead th {\n",
       "        text-align: right;\n",
       "    }\n",
       "</style>\n",
       "<table border=\"1\" class=\"dataframe\">\n",
       "  <thead>\n",
       "    <tr style=\"text-align: right;\">\n",
       "      <th></th>\n",
       "      <th>scoring</th>\n",
       "      <th>score</th>\n",
       "      <th>irr</th>\n",
       "      <th>nir</th>\n",
       "      <th>n_promotions</th>\n",
       "      <th>n_trials</th>\n",
       "      <th>best_params</th>\n",
       "    </tr>\n",
       "  </thead>\n",
       "  <tbody>\n",
       "    <tr>\n",
       "      <th>0</th>\n",
       "      <td>make_scorer(irr_score, response_method='predict')</td>\n",
       "      <td>0.017762</td>\n",
       "      <td>0.020606</td>\n",
       "      <td>519.65</td>\n",
       "      <td>19101</td>\n",
       "      <td>500</td>\n",
       "      <td>{'max_depth': 3, 'learning_rate': 0.0183463400...</td>\n",
       "    </tr>\n",
       "    <tr>\n",
       "      <th>1</th>\n",
       "      <td>roc_auc</td>\n",
       "      <td>0.653748</td>\n",
       "      <td>0.020099</td>\n",
       "      <td>464.70</td>\n",
       "      <td>18739</td>\n",
       "      <td>500</td>\n",
       "      <td>{'max_depth': 4, 'learning_rate': 0.0100143392...</td>\n",
       "    </tr>\n",
       "    <tr>\n",
       "      <th>2</th>\n",
       "      <td>f1</td>\n",
       "      <td>0.050820</td>\n",
       "      <td>0.019597</td>\n",
       "      <td>416.55</td>\n",
       "      <td>18553</td>\n",
       "      <td>500</td>\n",
       "      <td>{'max_depth': 3, 'learning_rate': 0.0295476606...</td>\n",
       "    </tr>\n",
       "    <tr>\n",
       "      <th>3</th>\n",
       "      <td>make_scorer(treat_score, response_method='pred...</td>\n",
       "      <td>0.025944</td>\n",
       "      <td>0.019763</td>\n",
       "      <td>415.75</td>\n",
       "      <td>17907</td>\n",
       "      <td>500</td>\n",
       "      <td>{'max_depth': 3, 'learning_rate': 0.0193394409...</td>\n",
       "    </tr>\n",
       "    <tr>\n",
       "      <th>4</th>\n",
       "      <td>precision</td>\n",
       "      <td>0.026520</td>\n",
       "      <td>0.019668</td>\n",
       "      <td>394.45</td>\n",
       "      <td>17401</td>\n",
       "      <td>500</td>\n",
       "      <td>{'max_depth': 3, 'learning_rate': 0.0325975613...</td>\n",
       "    </tr>\n",
       "    <tr>\n",
       "      <th>5</th>\n",
       "      <td>make_scorer(irr_nir_score, response_method='pr...</td>\n",
       "      <td>2.432661</td>\n",
       "      <td>0.018437</td>\n",
       "      <td>394.30</td>\n",
       "      <td>23361</td>\n",
       "      <td>500</td>\n",
       "      <td>{'max_depth': 1, 'learning_rate': 0.0463310264...</td>\n",
       "    </tr>\n",
       "    <tr>\n",
       "      <th>6</th>\n",
       "      <td>make_scorer(nir_score, response_method='predict')</td>\n",
       "      <td>132.760000</td>\n",
       "      <td>0.017863</td>\n",
       "      <td>321.70</td>\n",
       "      <td>23166</td>\n",
       "      <td>500</td>\n",
       "      <td>{'max_depth': 1, 'learning_rate': 0.0736641572...</td>\n",
       "    </tr>\n",
       "    <tr>\n",
       "      <th>7</th>\n",
       "      <td>accuracy</td>\n",
       "      <td>0.947774</td>\n",
       "      <td>0.015825</td>\n",
       "      <td>10.25</td>\n",
       "      <td>2116</td>\n",
       "      <td>500</td>\n",
       "      <td>{'max_depth': 7, 'learning_rate': 0.0977444529...</td>\n",
       "    </tr>\n",
       "    <tr>\n",
       "      <th>8</th>\n",
       "      <td>recall</td>\n",
       "      <td>0.855563</td>\n",
       "      <td>0.014231</td>\n",
       "      <td>-107.90</td>\n",
       "      <td>28355</td>\n",
       "      <td>500</td>\n",
       "      <td>{'max_depth': 1, 'learning_rate': 0.0229251660...</td>\n",
       "    </tr>\n",
       "  </tbody>\n",
       "</table>\n",
       "</div>"
      ],
      "text/plain": [
       "                                             scoring       score       irr  \\\n",
       "0  make_scorer(irr_score, response_method='predict')    0.017762  0.020606   \n",
       "1                                            roc_auc    0.653748  0.020099   \n",
       "2                                                 f1    0.050820  0.019597   \n",
       "3  make_scorer(treat_score, response_method='pred...    0.025944  0.019763   \n",
       "4                                          precision    0.026520  0.019668   \n",
       "5  make_scorer(irr_nir_score, response_method='pr...    2.432661  0.018437   \n",
       "6  make_scorer(nir_score, response_method='predict')  132.760000  0.017863   \n",
       "7                                           accuracy    0.947774  0.015825   \n",
       "8                                             recall    0.855563  0.014231   \n",
       "\n",
       "      nir  n_promotions  n_trials  \\\n",
       "0  519.65         19101       500   \n",
       "1  464.70         18739       500   \n",
       "2  416.55         18553       500   \n",
       "3  415.75         17907       500   \n",
       "4  394.45         17401       500   \n",
       "5  394.30         23361       500   \n",
       "6  321.70         23166       500   \n",
       "7   10.25          2116       500   \n",
       "8 -107.90         28355       500   \n",
       "\n",
       "                                         best_params  \n",
       "0  {'max_depth': 3, 'learning_rate': 0.0183463400...  \n",
       "1  {'max_depth': 4, 'learning_rate': 0.0100143392...  \n",
       "2  {'max_depth': 3, 'learning_rate': 0.0295476606...  \n",
       "3  {'max_depth': 3, 'learning_rate': 0.0193394409...  \n",
       "4  {'max_depth': 3, 'learning_rate': 0.0325975613...  \n",
       "5  {'max_depth': 1, 'learning_rate': 0.0463310264...  \n",
       "6  {'max_depth': 1, 'learning_rate': 0.0736641572...  \n",
       "7  {'max_depth': 7, 'learning_rate': 0.0977444529...  \n",
       "8  {'max_depth': 1, 'learning_rate': 0.0229251660...  "
      ]
     },
     "execution_count": 35,
     "metadata": {},
     "output_type": "execute_result"
    }
   ],
   "source": [
    "metric_baseline = pd.read_csv(\"../reports/baselines/metric_baseline.csv\").sort_values(\n",
    "    \"nir\", ascending=False\n",
    ")\n",
    "metric_baseline = metric_baseline.reset_index(drop=True)\n",
    "metric_baseline"
   ]
  },
  {
   "cell_type": "markdown",
   "metadata": {},
   "source": [
    "\n",
    "## Model Tunning\n",
    "\n",
    "The [Model_Tuning](../notebooks/Model_Tuning.ipynb) notebook tunned a XGBClassifier 5,000 rounds per metric for the top 3 metrics. As we already have some model with good performance, we can narrow down the tuning directions from those hyperparameters from `../reports/baselines/metric_baseline.csv`. The results are in `../reports/tuning_results/model_tuning.csv`."
   ]
  },
  {
   "cell_type": "code",
   "execution_count": 36,
   "metadata": {
    "scrolled": true
   },
   "outputs": [
    {
     "data": {
      "text/html": [
       "<div>\n",
       "<style scoped>\n",
       "    .dataframe tbody tr th:only-of-type {\n",
       "        vertical-align: middle;\n",
       "    }\n",
       "\n",
       "    .dataframe tbody tr th {\n",
       "        vertical-align: top;\n",
       "    }\n",
       "\n",
       "    .dataframe thead th {\n",
       "        text-align: right;\n",
       "    }\n",
       "</style>\n",
       "<table border=\"1\" class=\"dataframe\">\n",
       "  <thead>\n",
       "    <tr style=\"text-align: right;\">\n",
       "      <th></th>\n",
       "      <th>scoring</th>\n",
       "      <th>score</th>\n",
       "      <th>irr</th>\n",
       "      <th>nir</th>\n",
       "      <th>n_promotions</th>\n",
       "      <th>n_trials</th>\n",
       "      <th>best_params</th>\n",
       "    </tr>\n",
       "  </thead>\n",
       "  <tbody>\n",
       "    <tr>\n",
       "      <th>1</th>\n",
       "      <td>f1</td>\n",
       "      <td>0.051305</td>\n",
       "      <td>0.020381</td>\n",
       "      <td>497.30</td>\n",
       "      <td>18977</td>\n",
       "      <td>5000</td>\n",
       "      <td>{'max_depth': 3, 'learning_rate': 0.0258060210...</td>\n",
       "    </tr>\n",
       "    <tr>\n",
       "      <th>2</th>\n",
       "      <td>make_scorer(irr_score, response_method='predict')</td>\n",
       "      <td>0.017763</td>\n",
       "      <td>0.020216</td>\n",
       "      <td>460.70</td>\n",
       "      <td>18300</td>\n",
       "      <td>5000</td>\n",
       "      <td>{'max_depth': 3, 'learning_rate': 0.0158947161...</td>\n",
       "    </tr>\n",
       "    <tr>\n",
       "      <th>0</th>\n",
       "      <td>roc_auc</td>\n",
       "      <td>0.654770</td>\n",
       "      <td>0.019731</td>\n",
       "      <td>451.25</td>\n",
       "      <td>19572</td>\n",
       "      <td>5000</td>\n",
       "      <td>{'max_depth': 4, 'learning_rate': 0.0100036811...</td>\n",
       "    </tr>\n",
       "  </tbody>\n",
       "</table>\n",
       "</div>"
      ],
      "text/plain": [
       "                                             scoring     score       irr  \\\n",
       "1                                                 f1  0.051305  0.020381   \n",
       "2  make_scorer(irr_score, response_method='predict')  0.017763  0.020216   \n",
       "0                                            roc_auc  0.654770  0.019731   \n",
       "\n",
       "      nir  n_promotions  n_trials  \\\n",
       "1  497.30         18977      5000   \n",
       "2  460.70         18300      5000   \n",
       "0  451.25         19572      5000   \n",
       "\n",
       "                                         best_params  \n",
       "1  {'max_depth': 3, 'learning_rate': 0.0258060210...  \n",
       "2  {'max_depth': 3, 'learning_rate': 0.0158947161...  \n",
       "0  {'max_depth': 4, 'learning_rate': 0.0100036811...  "
      ]
     },
     "execution_count": 36,
     "metadata": {},
     "output_type": "execute_result"
    }
   ],
   "source": [
    "model_tuning = pd.read_csv(\"../reports/tuning_results/model_tuning.csv\").sort_values(\n",
    "    \"nir\", ascending=False\n",
    ")\n",
    "model_tuning"
   ]
  },
  {
   "cell_type": "markdown",
   "metadata": {},
   "source": [
    "The results indicate that following 5,000 rounds of model tuning, the score improved."
   ]
  },
  {
   "cell_type": "code",
   "execution_count": 37,
   "metadata": {},
   "outputs": [
    {
     "data": {
      "text/html": [
       "<div>\n",
       "<style scoped>\n",
       "    .dataframe tbody tr th:only-of-type {\n",
       "        vertical-align: middle;\n",
       "    }\n",
       "\n",
       "    .dataframe tbody tr th {\n",
       "        vertical-align: top;\n",
       "    }\n",
       "\n",
       "    .dataframe thead th {\n",
       "        text-align: right;\n",
       "    }\n",
       "</style>\n",
       "<table border=\"1\" class=\"dataframe\">\n",
       "  <thead>\n",
       "    <tr style=\"text-align: right;\">\n",
       "      <th></th>\n",
       "      <th>scoring</th>\n",
       "      <th>basic score</th>\n",
       "      <th>tuned score</th>\n",
       "      <th>diff</th>\n",
       "      <th>ratio</th>\n",
       "    </tr>\n",
       "  </thead>\n",
       "  <tbody>\n",
       "    <tr>\n",
       "      <th>0</th>\n",
       "      <td>make_scorer(irr_score, response_method='predict')</td>\n",
       "      <td>0.017762</td>\n",
       "      <td>0.017763</td>\n",
       "      <td>5.853362e-07</td>\n",
       "      <td>1.000033</td>\n",
       "    </tr>\n",
       "    <tr>\n",
       "      <th>1</th>\n",
       "      <td>roc_auc</td>\n",
       "      <td>0.653748</td>\n",
       "      <td>0.654770</td>\n",
       "      <td>1.022861e-03</td>\n",
       "      <td>1.001565</td>\n",
       "    </tr>\n",
       "    <tr>\n",
       "      <th>2</th>\n",
       "      <td>f1</td>\n",
       "      <td>0.050820</td>\n",
       "      <td>0.051305</td>\n",
       "      <td>4.853042e-04</td>\n",
       "      <td>1.009549</td>\n",
       "    </tr>\n",
       "  </tbody>\n",
       "</table>\n",
       "</div>"
      ],
      "text/plain": [
       "                                             scoring  basic score  \\\n",
       "0  make_scorer(irr_score, response_method='predict')     0.017762   \n",
       "1                                            roc_auc     0.653748   \n",
       "2                                                 f1     0.050820   \n",
       "\n",
       "   tuned score          diff     ratio  \n",
       "0     0.017763  5.853362e-07  1.000033  \n",
       "1     0.654770  1.022861e-03  1.001565  \n",
       "2     0.051305  4.853042e-04  1.009549  "
      ]
     },
     "execution_count": 37,
     "metadata": {},
     "output_type": "execute_result"
    }
   ],
   "source": [
    "_df1 = metric_baseline.loc[:3, [\"scoring\", \"score\"]]\n",
    "_df2 = model_tuning[[\"scoring\", \"score\"]]\n",
    "_df = pd.merge(_df1, _df2, on=\"scoring\")\n",
    "_df.rename(columns={\"score_x\": \"basic score\", \"score_y\": \"tuned score\"}, inplace=True)\n",
    "_df[\"diff\"] = _df[\"tuned score\"] - _df[\"basic score\"]\n",
    "_df[\"ratio\"] = _df[\"tuned score\"] / _df[\"basic score\"]\n",
    "_df"
   ]
  },
  {
   "cell_type": "markdown",
   "metadata": {},
   "source": [
    "However, there was a slight decline in the **NIR** score. On the other hand, the **F1** metric exhibited a significant increase in the **NIR** score compared to our baseline metric.\n",
    "\n",
    "It's important to understand that this does not mean the scorers are inversely related to **IRR** and **NIR**. The relationship is more complex and can be best described as a curve, where the goal is to identify an optimal balance point.\n"
   ]
  },
  {
   "cell_type": "code",
   "execution_count": 38,
   "metadata": {},
   "outputs": [
    {
     "data": {
      "text/html": [
       "<div>\n",
       "<style scoped>\n",
       "    .dataframe tbody tr th:only-of-type {\n",
       "        vertical-align: middle;\n",
       "    }\n",
       "\n",
       "    .dataframe tbody tr th {\n",
       "        vertical-align: top;\n",
       "    }\n",
       "\n",
       "    .dataframe thead th {\n",
       "        text-align: right;\n",
       "    }\n",
       "</style>\n",
       "<table border=\"1\" class=\"dataframe\">\n",
       "  <thead>\n",
       "    <tr style=\"text-align: right;\">\n",
       "      <th></th>\n",
       "      <th>scoring</th>\n",
       "      <th>basic irr</th>\n",
       "      <th>tuned irr</th>\n",
       "      <th>irr diff</th>\n",
       "      <th>irr ratio</th>\n",
       "      <th>basic nir</th>\n",
       "      <th>tuned nir</th>\n",
       "      <th>nir diff</th>\n",
       "      <th>nir ratio</th>\n",
       "    </tr>\n",
       "  </thead>\n",
       "  <tbody>\n",
       "    <tr>\n",
       "      <th>0</th>\n",
       "      <td>make_scorer(irr_score, response_method='predict')</td>\n",
       "      <td>0.020606</td>\n",
       "      <td>0.020216</td>\n",
       "      <td>-0.000390</td>\n",
       "      <td>0.981095</td>\n",
       "      <td>519.65</td>\n",
       "      <td>460.70</td>\n",
       "      <td>-58.95</td>\n",
       "      <td>0.886558</td>\n",
       "    </tr>\n",
       "    <tr>\n",
       "      <th>1</th>\n",
       "      <td>roc_auc</td>\n",
       "      <td>0.020099</td>\n",
       "      <td>0.019731</td>\n",
       "      <td>-0.000368</td>\n",
       "      <td>0.981681</td>\n",
       "      <td>464.70</td>\n",
       "      <td>451.25</td>\n",
       "      <td>-13.45</td>\n",
       "      <td>0.971057</td>\n",
       "    </tr>\n",
       "    <tr>\n",
       "      <th>2</th>\n",
       "      <td>f1</td>\n",
       "      <td>0.019597</td>\n",
       "      <td>0.020381</td>\n",
       "      <td>0.000783</td>\n",
       "      <td>1.039970</td>\n",
       "      <td>416.55</td>\n",
       "      <td>497.30</td>\n",
       "      <td>80.75</td>\n",
       "      <td>1.193854</td>\n",
       "    </tr>\n",
       "  </tbody>\n",
       "</table>\n",
       "</div>"
      ],
      "text/plain": [
       "                                             scoring  basic irr  tuned irr  \\\n",
       "0  make_scorer(irr_score, response_method='predict')   0.020606   0.020216   \n",
       "1                                            roc_auc   0.020099   0.019731   \n",
       "2                                                 f1   0.019597   0.020381   \n",
       "\n",
       "   irr diff  irr ratio  basic nir  tuned nir  nir diff  nir ratio  \n",
       "0 -0.000390   0.981095     519.65     460.70    -58.95   0.886558  \n",
       "1 -0.000368   0.981681     464.70     451.25    -13.45   0.971057  \n",
       "2  0.000783   1.039970     416.55     497.30     80.75   1.193854  "
      ]
     },
     "execution_count": 38,
     "metadata": {},
     "output_type": "execute_result"
    }
   ],
   "source": [
    "_df1 = metric_baseline.loc[:3, [\"scoring\", \"irr\", \"nir\"]]\n",
    "_df2 = model_tuning[[\"scoring\", \"irr\", \"nir\"]]\n",
    "_df = pd.merge(_df1, _df2, on=\"scoring\")\n",
    "_df.rename(\n",
    "    columns={\n",
    "        \"irr_x\": \"basic irr\",\n",
    "        \"irr_y\": \"tuned irr\",\n",
    "        \"nir_x\": \"basic nir\",\n",
    "        \"nir_y\": \"tuned nir\",\n",
    "    },\n",
    "    inplace=True,\n",
    ")\n",
    "_df[\"irr diff\"] = _df[\"tuned irr\"] - _df[\"basic irr\"]\n",
    "_df[\"irr ratio\"] = _df[\"tuned irr\"] / _df[\"basic irr\"]\n",
    "_df[\"nir diff\"] = _df[\"tuned nir\"] - _df[\"basic nir\"]\n",
    "_df[\"nir ratio\"] = _df[\"tuned nir\"] / _df[\"basic nir\"]\n",
    "_df = _df[\n",
    "    [\n",
    "        \"scoring\",\n",
    "        \"basic irr\",\n",
    "        \"tuned irr\",\n",
    "        \"irr diff\",\n",
    "        \"irr ratio\",\n",
    "        \"basic nir\",\n",
    "        \"tuned nir\",\n",
    "        \"nir diff\",\n",
    "        \"nir ratio\",\n",
    "    ]\n",
    "]\n",
    "_df"
   ]
  },
  {
   "cell_type": "code",
   "execution_count": 39,
   "metadata": {},
   "outputs": [
    {
     "name": "stdout",
     "output_type": "stream",
     "text": [
      "IRR:  0.009454547819772702\n",
      "NIR:  -2334.5999999999995\n"
     ]
    }
   ],
   "source": [
    "# Baseline IRR and NIR when we sent promotion randomly\n",
    "\n",
    "print(\"IRR: \", IRR)\n",
    "print(\"NIR: \", NIR)"
   ]
  },
  {
   "cell_type": "code",
   "execution_count": 50,
   "metadata": {},
   "outputs": [
    {
     "data": {
      "text/plain": [
       "scoring         make_scorer(irr_score, response_method='predict')\n",
       "score                                                    0.017762\n",
       "irr                                                      0.020606\n",
       "nir                                                        519.65\n",
       "n_promotions                                                19101\n",
       "n_trials                                                      500\n",
       "best_params     {'max_depth': 3, 'learning_rate': 0.0183463400...\n",
       "Name: 0, dtype: object"
      ]
     },
     "execution_count": 50,
     "metadata": {},
     "output_type": "execute_result"
    }
   ],
   "source": [
    "metric_baseline.iloc[0]"
   ]
  },
  {
   "cell_type": "code",
   "execution_count": 46,
   "metadata": {},
   "outputs": [
    {
     "name": "stdout",
     "output_type": "stream",
     "text": [
      "{'max_depth': 3, 'learning_rate': 0.018346340063285248, 'n_estimators': 190, 'gamma': 0.4018555699113115, 'subsample': 0.7127760681819945, 'colsample_bytree': 0.6612729951187046, 'reg_alpha': 0.4225060439585793, 'reg_lambda': 7.818764244426856, 'min_child_weight': 180}\n"
     ]
    }
   ],
   "source": [
    "best_irr = metric_baseline.iloc[0].irr\n",
    "best_nir = metric_baseline.iloc[0].nir\n",
    "print(metric_baseline.loc[0, \"best_params\"])"
   ]
  },
  {
   "cell_type": "code",
   "execution_count": 47,
   "metadata": {},
   "outputs": [
    {
     "data": {
      "text/html": [
       "<div>\n",
       "<style scoped>\n",
       "    .dataframe tbody tr th:only-of-type {\n",
       "        vertical-align: middle;\n",
       "    }\n",
       "\n",
       "    .dataframe tbody tr th {\n",
       "        vertical-align: top;\n",
       "    }\n",
       "\n",
       "    .dataframe thead th {\n",
       "        text-align: right;\n",
       "    }\n",
       "</style>\n",
       "<table border=\"1\" class=\"dataframe\">\n",
       "  <thead>\n",
       "    <tr style=\"text-align: right;\">\n",
       "      <th></th>\n",
       "      <th>Label</th>\n",
       "      <th>IRR</th>\n",
       "      <th>NIR</th>\n",
       "    </tr>\n",
       "  </thead>\n",
       "  <tbody>\n",
       "    <tr>\n",
       "      <th>0</th>\n",
       "      <td>Random-promotion</td>\n",
       "      <td>0.0095</td>\n",
       "      <td>-2334.60</td>\n",
       "    </tr>\n",
       "    <tr>\n",
       "      <th>1</th>\n",
       "      <td>All-promotion</td>\n",
       "      <td>0.0096</td>\n",
       "      <td>-1132.20</td>\n",
       "    </tr>\n",
       "    <tr>\n",
       "      <th>2</th>\n",
       "      <td>Starbucks-promotion</td>\n",
       "      <td>0.0188</td>\n",
       "      <td>189.45</td>\n",
       "    </tr>\n",
       "    <tr>\n",
       "      <th>3</th>\n",
       "      <td>Best-promotion</td>\n",
       "      <td>0.0206</td>\n",
       "      <td>519.65</td>\n",
       "    </tr>\n",
       "  </tbody>\n",
       "</table>\n",
       "</div>"
      ],
      "text/plain": [
       "                 Label     IRR      NIR\n",
       "0     Random-promotion  0.0095 -2334.60\n",
       "1        All-promotion  0.0096 -1132.20\n",
       "2  Starbucks-promotion  0.0188   189.45\n",
       "3       Best-promotion  0.0206   519.65"
      ]
     },
     "execution_count": 47,
     "metadata": {},
     "output_type": "execute_result"
    }
   ],
   "source": [
    "df = pd.DataFrame(\n",
    "    {\n",
    "        \"Label\": [\"Random-promotion\", \"All-promotion\", \"Starbucks-promotion\", \"Best-promotion\"],\n",
    "        \"IRR\": [round(IRR, 4), round(all_irr, 4), 0.0188, round(best_irr, 4)],\n",
    "        \"NIR\": [round(NIR, 2), round(all_nir, 2), 189.45, round(best_nir, 2)],\n",
    "    }\n",
    ")\n",
    "\n",
    "df"
   ]
  },
  {
   "cell_type": "markdown",
   "metadata": {},
   "source": [
    "## Visualization"
   ]
  },
  {
   "cell_type": "code",
   "execution_count": 48,
   "metadata": {},
   "outputs": [
    {
     "data": {
      "image/png": "[encoded data removed]",
      "text/plain": [
       "<Figure size 640x480 with 1 Axes>"
      ]
     },
     "metadata": {},
     "output_type": "display_data"
    }
   ],
   "source": [
    "# Create line plot for IRR\n",
    "x, y = df.Label, df.IRR\n",
    "plt.plot(x, y)\n",
    "\n",
    "# Annotate each y value\n",
    "for i, j in zip(x, y):\n",
    "    plt.annotate(str(j), xy=(i, j))\n",
    "\n",
    "# Add x and y axis labels\n",
    "plt.xlabel(\"Strategy\")\n",
    "plt.ylabel(\"IRR\")\n",
    "\n",
    "# Add title\n",
    "plt.title(\"IRR Line Plot\")\n",
    "\n",
    "# Save plot\n",
    "# plt.savefig('irr_line_plot.png')\n",
    "\n",
    "# Show plot\n",
    "plt.show()"
   ]
  },
  {
   "cell_type": "code",
   "execution_count": 49,
   "metadata": {
    "scrolled": false
   },
   "outputs": [
    {
     "data": {
      "image/png": "[encoded data removed]",
      "text/plain": [
       "<Figure size 640x480 with 1 Axes>"
      ]
     },
     "metadata": {},
     "output_type": "display_data"
    }
   ],
   "source": [
    "# Create line plot for IRR\n",
    "x, y = df.Label, df.NIR\n",
    "plt.plot(x, y)\n",
    "\n",
    "# Annotate each y value\n",
    "for i, j in zip(x, y):\n",
    "    plt.annotate(str(j), xy=(i, j))\n",
    "\n",
    "# Add x and y axis labels\n",
    "plt.xlabel(\"Strategy\")\n",
    "plt.ylabel(\"NIR\")\n",
    "\n",
    "# Add title\n",
    "plt.title(\"NIR Line Plot\")\n",
    "\n",
    "# Save plot\n",
    "# plt.savefig('nir_line_plot.png')\n",
    "\n",
    "# Show plot\n",
    "plt.show()"
   ]
  },
  {
   "cell_type": "markdown",
   "metadata": {},
   "source": [
    "---\n",
    "\n",
    "## ML Conclusion\n",
    "\n",
    "As the the conclusion, I prefer the following ML strategy for maximizing the IRR and NIR:\n",
    "- Model: XGBoost Classifier\n",
    "- Features: All\n",
    "- Metric (custom): $ IRR Score=\\frac{tp}{(tp + fp)} - \\frac{fn}{(fn + tn)}$ \n",
    "- IRR: 0.020606\n",
    "- NIR: 519.65\n",
    "- Hyperparameters: `{'max_depth': 3, 'learning_rate': 0.018346340063285248, 'n_estimators': 190, 'gamma': 0.4018555699113115, 'subsample': 0.7127760681819945, 'colsample_bytree': 0.6612729951187046, 'reg_alpha': 0.4225060439585793, 'reg_lambda': 7.818764244426856, 'min_child_weight': 180}`\n",
    "\n",
    "\n",
    "### Comparative Performance\n",
    "\n",
    "- `IRR Improvement`: Compared to the **Random-Promotion Strategy** IRR of **0.00945**, our solution achieved an IRR of **0.020606**, representing an increase of **0.011156** or approximately **118%**.\n",
    "- `NIR Improvement`: Compared to the **Random-Promotion Strategy** NIR of **-2334.599**, our solution achieved an NIR of **519.65**, an increase of **2854.24**.\n",
    "- `IRR vs. Starbucks Baseline`: Compared to the **Starbucks Baseline** IRR of **0.0188**, our model increased IRR by **0.001806**, or **9.6%**.\n",
    "- `NIR vs. Starbucks Baseline`: Compared to the **Starbucks Baseline** NIR of **189.45**, our model achieved an NIR of **519.65**, an increase of **330.2**, or **174.29%**.\n",
    "\n",
    "This model's enhanced performance underscores its potential to drive better financial outcomes and aligns with strategic goals for optimizing promotions and customer engagement.\n"
   ]
  }
 ],
 "metadata": {
  "kernelspec": {
   "display_name": "Python 3 (ipykernel)",
   "language": "python",
   "name": "python3"
  },
  "language_info": {
   "codemirror_mode": {
    "name": "ipython",
    "version": 3
   },
   "file_extension": ".py",
   "mimetype": "text/x-python",
   "name": "python",
   "nbconvert_exporter": "python",
   "pygments_lexer": "ipython3",
   "version": "3.10.9"
  }
 },
 "nbformat": 4,
 "nbformat_minor": 2
}
